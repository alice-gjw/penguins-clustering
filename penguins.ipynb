{
 "cells": [
  {
   "cell_type": "code",
   "execution_count": 2,
   "metadata": {},
   "outputs": [],
   "source": [
    "import pandas as pd\n",
    "import numpy as np\n",
    "import matplotlib.pyplot as plt\n",
    "import seaborn as sns\n",
    "from scipy import stats\n",
    "from sklearn.preprocessing import StandardScaler, OneHotEncoder"
   ]
  },
  {
   "cell_type": "code",
   "execution_count": 3,
   "metadata": {},
   "outputs": [
    {
     "name": "stdout",
     "output_type": "stream",
     "text": [
      "   culmen_length_mm  culmen_depth_mm  flipper_length_mm  body_mass_g     sex\n",
      "0              39.1             18.7              181.0       3750.0    MALE\n",
      "1              39.5             17.4              186.0       3800.0  FEMALE\n",
      "2              40.3             18.0              195.0       3250.0  FEMALE\n",
      "3               NaN              NaN                NaN          NaN     NaN\n",
      "4              36.7             19.3              193.0       3450.0  FEMALE\n",
      "\n",
      "\n",
      "<class 'pandas.core.frame.DataFrame'>\n",
      "RangeIndex: 344 entries, 0 to 343\n",
      "Data columns (total 5 columns):\n",
      " #   Column             Non-Null Count  Dtype  \n",
      "---  ------             --------------  -----  \n",
      " 0   culmen_length_mm   342 non-null    float64\n",
      " 1   culmen_depth_mm    342 non-null    float64\n",
      " 2   flipper_length_mm  342 non-null    float64\n",
      " 3   body_mass_g        342 non-null    float64\n",
      " 4   sex                335 non-null    object \n",
      "dtypes: float64(4), object(1)\n",
      "memory usage: 13.6+ KB\n",
      "None\n",
      "\n",
      "Number of rows and columns:\n",
      "(344, 5)\n"
     ]
    }
   ],
   "source": [
    "df = pd.read_csv('penguins.csv')\n",
    "\n",
    "print(df.head())\n",
    "print(\"\\n\")\n",
    "print(df.info())\n",
    "print(\"\\nNumber of rows and columns:\")\n",
    "print(df.shape)"
   ]
  },
  {
   "cell_type": "code",
   "execution_count": 4,
   "metadata": {},
   "outputs": [
    {
     "name": "stdout",
     "output_type": "stream",
     "text": [
      "                   Missing Count  Missing Percentage (%)\n",
      "culmen_length_mm               2                0.581395\n",
      "culmen_depth_mm                2                0.581395\n",
      "flipper_length_mm              2                0.581395\n",
      "body_mass_g                    2                0.581395\n",
      "sex                            9                2.616279\n"
     ]
    }
   ],
   "source": [
    "# The culmen is the beak lol\n",
    "\n",
    "# Checking and missing NaN values\n",
    "missing_values = df.isnull().sum()\n",
    "missing_percentage = 100 * df.isnull().sum() / len(df)\n",
    "missing_table = pd.concat([missing_values, missing_percentage], axis=1, \n",
    "\t\t\t\t\t\t\t\t\t\t\t\t\t\tkeys=['Missing Count', 'Missing Percentage (%)'])\n",
    "\n",
    "print(missing_table)\n"
   ]
  },
  {
   "cell_type": "code",
   "execution_count": 5,
   "metadata": {},
   "outputs": [
    {
     "name": "stdout",
     "output_type": "stream",
     "text": [
      "                   Blank  NaN\n",
      "culmen_length_mm       0    2\n",
      "culmen_depth_mm        0    2\n",
      "flipper_length_mm      0    2\n",
      "body_mass_g            0    2\n",
      "sex                    0    9\n"
     ]
    }
   ],
   "source": [
    "# Explicitly checking for blank values\n",
    "blank_values = (df == '').sum()\n",
    "\n",
    "# Explicitly checking for NaN values\n",
    "nan_values = df.isna().sum()\n",
    "\n",
    "print(pd.DataFrame({'Blank': blank_values, 'NaN': nan_values}))"
   ]
  },
  {
   "cell_type": "code",
   "execution_count": 6,
   "metadata": {},
   "outputs": [
    {
     "name": "stdout",
     "output_type": "stream",
     "text": [
      "Skewness of columns:\n",
      "culmen_length_mm      0.053118\n",
      "culmen_depth_mm      -0.143465\n",
      "flipper_length_mm    18.273303\n",
      "body_mass_g           0.470329\n",
      "dtype: float64\n"
     ]
    }
   ],
   "source": [
    "# Missing values are a really small percentage, just checking the skewness of the numerical columns\n",
    "# Check how close the values are to 0\n",
    "\n",
    "columns_to_check = ['culmen_length_mm', 'culmen_depth_mm', 'flipper_length_mm', 'body_mass_g']\n",
    "print(\"Skewness of columns:\")\n",
    "print(df[columns_to_check].skew())"
   ]
  },
  {
   "cell_type": "code",
   "execution_count": 7,
   "metadata": {},
   "outputs": [
    {
     "name": "stdout",
     "output_type": "stream",
     "text": [
      "count     342.000000\n",
      "mean      214.014620\n",
      "std       260.558057\n",
      "min      -132.000000\n",
      "25%       190.000000\n",
      "50%       197.000000\n",
      "75%       213.750000\n",
      "max      5000.000000\n",
      "Name: flipper_length_mm, dtype: float64\n"
     ]
    }
   ],
   "source": [
    "print(df['flipper_length_mm'].describe())\n",
    "\n",
    "# Flipper length can't be negative.\n",
    "# Max value is also too large.\n",
    "# Mean significantly higher than median (50%), strong skew as a result [(Mean-Median)/Median] * 100% \n",
    "\n",
    "# Coefficient of Variation = (sd/Mean) * 100 ≈ 121.7% (high variability)\n",
    "# IQR too 75% - 25% = (small value vs the overall range of data = presence of extreme outliers)"
   ]
  },
  {
   "cell_type": "code",
   "execution_count": 8,
   "metadata": {},
   "outputs": [
    {
     "data": {
      "image/png": "[encoded data removed]",
      "text/plain": [
       "<Figure size 1000x600 with 1 Axes>"
      ]
     },
     "metadata": {},
     "output_type": "display_data"
    }
   ],
   "source": [
    "# Visualizing the distribution\n",
    "# Choice of figsize and bins\n",
    "\n",
    "plt.figure(figsize=(10,6))\n",
    "df['flipper_length_mm'].hist(bins=30)\n",
    "plt.title('Distribution of Flipper Length')\n",
    "plt.xlabel('Flipper Length (mm)')\n",
    "plt.xlabel('Flipper Length (mm)')\n",
    "plt.show()"
   ]
  },
  {
   "cell_type": "code",
   "execution_count": 9,
   "metadata": {},
   "outputs": [
    {
     "name": "stdout",
     "output_type": "stream",
     "text": [
      "Index(['culmen_length_mm', 'culmen_depth_mm', 'flipper_length_mm',\n",
      "       'body_mass_g', 'sex'],\n",
      "      dtype='object')\n"
     ]
    }
   ],
   "source": [
    "print(df.columns)"
   ]
  },
  {
   "cell_type": "code",
   "execution_count": 10,
   "metadata": {},
   "outputs": [
    {
     "name": "stdout",
     "output_type": "stream",
     "text": [
      "Outliers detected with Z-score method:\n",
      "Flipper length (mm): 0 outliers (0.00%)\n",
      "\n",
      "Outliers detected with IQR method\n",
      "Flipper length (mm): 2 outliers (0.58%)\n"
     ]
    }
   ],
   "source": [
    "# Removing the extreme outliers first before imputing NaN values\n",
    "# Testing both z_scores and iqr outliers\n",
    "def detect_flipper_zscore(data, threshold=3):\n",
    "    z_scores = np.abs(stats.zscore(data))\n",
    "    return z_scores > threshold\n",
    "\n",
    "def detect_flipper_iqr(data):\n",
    "    Q1 = data.quantile(0.25)\n",
    "    Q3 = data.quantile(0.75)\n",
    "    IQR = Q3 - Q1\n",
    "    lower_bound = Q1 - 1.5 * IQR\n",
    "    upper_bound = Q3 + 1.5 * IQR\n",
    "    return (data < lower_bound) | (data > upper_bound)\n",
    "\n",
    "flipper_zscore = detect_flipper_zscore(df['flipper_length_mm'])\n",
    "flipper_iqr = detect_flipper_iqr(df['flipper_length_mm'])\n",
    "\n",
    "\n",
    "print(\"Outliers detected with Z-score method:\")\n",
    "outlier_count = flipper_zscore.sum()\n",
    "print(f\"Flipper length (mm): {outlier_count} outliers ({outlier_count/len(df)*100:.2f}%)\")\n",
    "\n",
    "print(\"\\nOutliers detected with IQR method\")\n",
    "outlier_count = flipper_iqr.sum()\n",
    "print(f\"Flipper length (mm): {outlier_count} outliers ({outlier_count/len(df)*100:.2f}%)\")"
   ]
  },
  {
   "cell_type": "code",
   "execution_count": 11,
   "metadata": {},
   "outputs": [
    {
     "name": "stdout",
     "output_type": "stream",
     "text": [
      "Outlier values  (IQR):\n",
      "9     5000.0\n",
      "14    -132.0\n",
      "Name: flipper_length_mm, dtype: float64\n",
      "\n",
      "Unique values in flipper_length_mm:\n",
      "[ 181.  186.  195.   nan  193.  190. 5000.  180.  182.  191. -132.  185.\n",
      "  197.  184.  194.  174.  189.  187.  183.  172.  178.  188.  196.  179.\n",
      "  200.  192.  198.  202.  205.  208.  203.  199.  176.  210.  201.  212.\n",
      "  206.  207.  211.  230.  218.  215.  219.  209.  214.  216.  213.  217.\n",
      "  221.  222.  220.  225.  224.  231.  229.  223.  228.  226.]\n"
     ]
    }
   ],
   "source": [
    "# Since little number of outliers, finding out the specific outlier values\n",
    "print(\"Outlier values  (IQR):\")\n",
    "print(df[flipper_iqr]['flipper_length_mm'])\n",
    "\n",
    "print(\"\\nUnique values in flipper_length_mm:\")\n",
    "print(f\"{df['flipper_length_mm'].unique()}\")"
   ]
  },
  {
   "cell_type": "code",
   "execution_count": 12,
   "metadata": {},
   "outputs": [
    {
     "name": "stdout",
     "output_type": "stream",
     "text": [
      "\n",
      "Unique values in culmen_length_mm:\n",
      "[39.1 39.5 40.3  nan 36.7 39.3 38.9 39.2 34.1 42.  37.8 41.1 38.6 34.6\n",
      " 36.6 38.7 42.5 34.4 46.  37.7 35.9 38.2 38.8 35.3 40.6 40.5 37.9 37.2\n",
      " 40.9 36.4 42.2 37.6 39.8 36.5 40.8 36.  44.1 37.  39.6 37.5 42.3 40.1\n",
      " 35.  34.5 41.4 39.  35.7 41.3 41.6 35.5 41.8 33.5 39.7 45.8 42.8 36.2\n",
      " 42.1 42.9 35.1 37.3 36.3 36.9 38.3 34.  38.1 33.1 43.2 41.  45.6 42.7\n",
      " 40.2 35.2 41.5 38.5 43.1 36.8 35.6 32.1 40.7 46.5 50.  51.3 45.4 52.7\n",
      " 45.2 46.1 46.6 51.7 47.  52.  45.9 50.5 50.3 58.  46.4 49.2 42.4 48.5\n",
      " 50.6 46.7 49.5 52.8 54.2 51.  49.7 47.5 47.6 46.9 53.5 49.  46.2 50.9\n",
      " 45.5 50.8 50.1 51.5 49.8 48.1 51.4 45.7 50.7 52.2 49.3 50.2 51.9 46.8\n",
      " 55.8 43.5 49.6 48.7 43.3 48.4 45.1 46.3 44.5 47.8 48.2 47.3 59.6 49.1\n",
      " 42.6 44.4 44.  45.3 43.6 44.9 45.  43.8 50.4 54.3 47.7 48.6 51.1 52.5\n",
      " 47.4 43.4 52.1 49.4 55.9 47.2 41.7 53.4 55.1 48.8 49.9]\n",
      "\n",
      "Unique values in culmen_depth_mm:\n",
      "[18.7 17.4 18.   nan 19.3 20.6 17.8 19.6 18.1 20.2 17.1 17.3 17.6 21.2\n",
      " 21.1 19.  20.7 18.4 21.5 18.3 19.2 17.2 18.9 18.6 17.9 16.7 17.  20.\n",
      " 18.5 19.1 19.7 16.9 18.8 17.7 19.5 17.5 16.6 18.2 16.2 19.4 16.8 16.1\n",
      " 20.3 16.  16.5 20.5 19.8 15.9 20.1 15.5 19.9 20.8 16.4 13.2 16.3 14.1\n",
      " 15.2 14.5 13.5 14.6 15.3 13.4 15.4 13.7 15.7 15.1 14.3 15.8 13.1 15.\n",
      " 14.2 14.8 13.6 13.9 13.3 14.4 13.8 14.9 15.6 14.  14.7]\n",
      "\n",
      "Unique values in flipper_length_mm:\n",
      "[ 181.  186.  195.   nan  193.  190. 5000.  180.  182.  191. -132.  185.\n",
      "  197.  184.  194.  174.  189.  187.  183.  172.  178.  188.  196.  179.\n",
      "  200.  192.  198.  202.  205.  208.  203.  199.  176.  210.  201.  212.\n",
      "  206.  207.  211.  230.  218.  215.  219.  209.  214.  216.  213.  217.\n",
      "  221.  222.  220.  225.  224.  231.  229.  223.  228.  226.]\n",
      "\n",
      "Unique values in body_mass_g:\n",
      "[3750. 3800. 3250.   nan 3450. 3650. 3625. 4675. 3475. 4250. 3300. 3700.\n",
      " 3200. 4400. 4500. 3325. 4200. 3400. 3600. 3950. 3550. 3150. 3900. 4150.\n",
      " 4650. 3100. 3000. 4600. 3425. 2975. 3500. 4300. 4050. 2900. 2850. 3350.\n",
      " 4100. 3050. 4450. 4000. 4700. 4350. 3725. 4725. 3075. 2925. 3175. 4775.\n",
      " 3825. 4275. 4075. 3775. 3875. 3275. 4475. 3975. 3525. 3575. 4550. 3850.\n",
      " 4800. 2700. 3675. 5700. 5400. 5200. 5150. 5550. 5850. 6300. 5350. 5000.\n",
      " 5050. 5100. 5650. 5250. 6050. 4950. 4750. 4900. 5300. 4850. 5800. 6000.\n",
      " 5950. 4625. 5450. 5600. 4875. 4925. 4975. 5500. 4575. 4375. 5750.]\n",
      "\n",
      "Unique values in sex:\n",
      "['MALE' 'FEMALE' nan '.']\n"
     ]
    }
   ],
   "source": [
    "# Checking unique values in other columns since we want to convert them all the odd ones to NaN\n",
    "for column in df.columns:\n",
    "    print(f\"\\nUnique values in {column}:\")\n",
    "    print(df[column].unique())"
   ]
  },
  {
   "cell_type": "code",
   "execution_count": 13,
   "metadata": {},
   "outputs": [
    {
     "name": "stdout",
     "output_type": "stream",
     "text": [
      "culmen_length_mm     0\n",
      "culmen_depth_mm      0\n",
      "flipper_length_mm    0\n",
      "body_mass_g          0\n",
      "sex                  0\n",
      "dtype: int64\n"
     ]
    }
   ],
   "source": [
    "# Converting the outlier values in 'flipper_length_mm' and \".\" in 'sex' to NaN and then imputing \n",
    "\n",
    "df['flipper_length_mm'] = df['flipper_length_mm'].replace([5000.0, -132.0], np.nan)\n",
    "df['sex'] = df['sex'].replace(['.'], np.nan)\n",
    "\n",
    "numerical_columns = ['culmen_length_mm', 'culmen_depth_mm', 'flipper_length_mm', 'body_mass_g']\n",
    "\n",
    "for col in numerical_columns: \n",
    "    df[col] = df[col].fillna(df[col].median())\n",
    "    \n",
    "df['sex'] = df['sex'].fillna(df['sex'].mode()[0])\n",
    "\n",
    "print(df.isnull().sum())"
   ]
  },
  {
   "cell_type": "code",
   "execution_count": 14,
   "metadata": {},
   "outputs": [
    {
     "name": "stdout",
     "output_type": "stream",
     "text": [
      "['MALE' 'FEMALE']\n"
     ]
    }
   ],
   "source": [
    "print(df['sex'].unique())"
   ]
  },
  {
   "cell_type": "code",
   "execution_count": 15,
   "metadata": {},
   "outputs": [
    {
     "name": "stdout",
     "output_type": "stream",
     "text": [
      "<class 'pandas.core.frame.DataFrame'>\n",
      "RangeIndex: 344 entries, 0 to 343\n",
      "Data columns (total 6 columns):\n",
      " #   Column             Non-Null Count  Dtype  \n",
      "---  ------             --------------  -----  \n",
      " 0   culmen_length_mm   344 non-null    float64\n",
      " 1   culmen_depth_mm    344 non-null    float64\n",
      " 2   flipper_length_mm  344 non-null    float64\n",
      " 3   body_mass_g        344 non-null    float64\n",
      " 4   sex_FEMALE         344 non-null    float64\n",
      " 5   sex_MALE           344 non-null    float64\n",
      "dtypes: float64(6)\n",
      "memory usage: 16.2 KB\n",
      "None\n",
      "\n",
      "\n",
      "   culmen_length_mm  culmen_depth_mm  flipper_length_mm  body_mass_g  \\\n",
      "0         -0.887622         0.787289          -1.422808    -0.564625   \n",
      "1         -0.814037         0.126114          -1.065496    -0.502010   \n",
      "2         -0.666866         0.431272          -0.422334    -1.190773   \n",
      "3          0.096581         0.075255          -0.279410    -0.188936   \n",
      "4         -1.329133         1.092447          -0.565259    -0.940314   \n",
      "5         -0.850829         1.753622          -0.779646    -0.689855   \n",
      "6         -0.924414         0.329553          -1.422808    -0.721162   \n",
      "7         -0.869226         1.245026          -0.422334     0.593748   \n",
      "8         -1.807437         0.482132          -0.565259    -0.909007   \n",
      "9         -0.354129         1.550184          -0.279410     0.061523   \n",
      "\n",
      "   sex_FEMALE  sex_MALE  \n",
      "0         0.0       1.0  \n",
      "1         1.0       0.0  \n",
      "2         1.0       0.0  \n",
      "3         0.0       1.0  \n",
      "4         1.0       0.0  \n",
      "5         0.0       1.0  \n",
      "6         1.0       0.0  \n",
      "7         0.0       1.0  \n",
      "8         0.0       1.0  \n",
      "9         0.0       1.0  \n",
      "\n",
      "\n",
      "       culmen_length_mm  culmen_depth_mm  flipper_length_mm   body_mass_g  \\\n",
      "count      3.440000e+02     3.440000e+02       3.440000e+02  3.440000e+02   \n",
      "mean      -7.435912e-16     2.891744e-16       5.783487e-16  8.262125e-17   \n",
      "std        1.001457e+00     1.001457e+00       1.001457e+00  1.001457e+00   \n",
      "min       -2.175363e+00    -2.060850e+00      -2.065969e+00 -1.879536e+00   \n",
      "25%       -8.554283e-01    -7.893593e-01      -7.796463e-01 -8.150844e-01   \n",
      "50%        9.658061e-02     7.525452e-02      -2.794096e-01 -1.889365e-01   \n",
      "75%        8.416311e-01     7.872894e-01       8.639886e-01  6.876706e-01   \n",
      "max        2.883621e+00     2.211359e+00       2.150312e+00  2.628729e+00   \n",
      "\n",
      "       sex_FEMALE    sex_MALE  \n",
      "count  344.000000  344.000000  \n",
      "mean     0.479651    0.520349  \n",
      "std      0.500313    0.500313  \n",
      "min      0.000000    0.000000  \n",
      "25%      0.000000    0.000000  \n",
      "50%      0.000000    1.000000  \n",
      "75%      1.000000    1.000000  \n",
      "max      1.000000    1.000000  \n"
     ]
    }
   ],
   "source": [
    "# Scaling the rest of the columns and encoding 'sex'\n",
    "numerical_columns = ['culmen_length_mm', 'culmen_depth_mm', 'flipper_length_mm', 'body_mass_g']\n",
    "\n",
    "scaler = StandardScaler()\n",
    "df[numerical_columns] = scaler.fit_transform(df[numerical_columns])\n",
    "\n",
    "ohe = OneHotEncoder(sparse_output=False)\n",
    "encoded_sex = ohe.fit_transform(df[['sex']])\n",
    "encoded_df = pd.DataFrame(encoded_sex, columns=ohe.get_feature_names_out(['sex']))\n",
    "df = pd.concat([df, encoded_df], axis=1)\n",
    "df = df.drop('sex', axis=1)\n",
    "\n",
    "print(df.info())\n",
    "print(\"\\n\")\n",
    "print(df.head(10))\n",
    "print(\"\\n\")\n",
    "print(df.describe())"
   ]
  },
  {
   "cell_type": "code",
   "execution_count": 16,
   "metadata": {},
   "outputs": [
    {
     "name": "stdout",
     "output_type": "stream",
     "text": [
      "                   culmen_length_mm  culmen_depth_mm  flipper_length_mm  \\\n",
      "culmen_length_mm           1.000000        -0.235000           0.656171   \n",
      "culmen_depth_mm           -0.235000         1.000000          -0.582414   \n",
      "flipper_length_mm          0.656171        -0.582414           1.000000   \n",
      "body_mass_g                0.594925        -0.471942           0.871885   \n",
      "sex_FEMALE                -0.322871        -0.354791          -0.243311   \n",
      "\n",
      "                   body_mass_g  sex_FEMALE  \n",
      "culmen_length_mm      0.594925   -0.322871  \n",
      "culmen_depth_mm      -0.471942   -0.354791  \n",
      "flipper_length_mm     0.871885   -0.243311  \n",
      "body_mass_g           1.000000   -0.407107  \n",
      "sex_FEMALE           -0.407107    1.000000  \n"
     ]
    },
    {
     "data": {
      "image/png": "[encoded data removed]",
      "text/plain": [
       "<Figure size 1000x800 with 2 Axes>"
      ]
     },
     "metadata": {},
     "output_type": "display_data"
    }
   ],
   "source": [
    "# Correlation analysis\n",
    "# Creating a correlation matrix and heatmap visualization for it\n",
    "# Dropping sex_MALE for the correlation analysis since they are perfectly negatively correlated (-1)\n",
    "\n",
    "df_corr = df.drop('sex_MALE', axis=1)\n",
    "corr_matrix = df_corr.corr()\n",
    "print(corr_matrix)\n",
    "\n",
    "plt.figure(figsize=(10, 8))\n",
    "sns.heatmap(corr_matrix, annot=True, cmap='coolwarm', vmin=1, vmax=1, center=0)\n",
    "plt.title('Correlation Matrix of Penguin Features')\n",
    "plt.show()"
   ]
  },
  {
   "cell_type": "code",
   "execution_count": null,
   "metadata": {},
   "outputs": [],
   "source": [
    "# Positive correlations\n",
    "## Culmen length & Flipper length (0.66) (Penguins with larger beaks have longer flippers\n",
    "## Culmen length & Body mass (0.59) (Larger penguins have longer beaks)\n",
    "## Flipper length & Body mass (0.87)* (Larger penguins have longer flippers)\n",
    "\n",
    "# Stronger Negative correlation \n",
    "## Culmen depth & Flipper length (-0.58) (Deeper beaks = Shorter flippers)\n",
    "## Culmen depth & Body mass (-0.47) (Deeper beaks = Lower body mass)\n",
    "\n",
    "# No features > 0.9: Good for avoiding multicollinearity in regression models"
   ]
  }
 ],
 "metadata": {
  "kernelspec": {
   "display_name": ".venv",
   "language": "python",
   "name": "python3"
  },
  "language_info": {
   "codemirror_mode": {
    "name": "ipython",
    "version": 3
   },
   "file_extension": ".py",
   "mimetype": "text/x-python",
   "name": "python",
   "nbconvert_exporter": "python",
   "pygments_lexer": "ipython3",
   "version": "3.9.6"
  }
 },
 "nbformat": 4,
 "nbformat_minor": 2
}
